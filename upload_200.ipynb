{
 "cells": [
  {
   "cell_type": "code",
   "execution_count": null,
   "metadata": {},
   "outputs": [],
   "source": [
    "import os, json, yaml\n",
    "import urllib.request\n",
    "\n",
    "mappingFile = \"abe213a-toid.yaml\"\n",
    "annIdToImId = yaml.load(open(mappingFile))\n",
    "url_template = 'http://s3.amazonaws.com/visipedia/images/%d/original.jpg'\n",
    "\n",
    "# load and refactor the annotation data\n",
    "annotations = json.load(open(\"jess-annotations.json\"))\n",
    "\n",
    "# make sure we have an output dir\n",
    "tDir = 'test_imgs'\n",
    "if not os.path.exists(tDir): os.makedirs(tDir)\n",
    "\n",
    "# save images\n",
    "for annId, ann in annotations:\n",
    "    imFn = annIdToImId[str(annId)]\n",
    "    urllib.request.urlretrieve(url_template % imFn, \"%s/%d.jpg\" % (tDir, imFn))\n",
    "#     print(annId)"
   ]
  },
  {
   "cell_type": "code",
   "execution_count": null,
   "metadata": {},
   "outputs": [],
   "source": []
  }
 ],
 "metadata": {
  "kernelspec": {
   "display_name": "Python 3",
   "language": "python",
   "name": "python3"
  },
  "language_info": {
   "codemirror_mode": {
    "name": "ipython",
    "version": 3
   },
   "file_extension": ".py",
   "mimetype": "text/x-python",
   "name": "python",
   "nbconvert_exporter": "python",
   "pygments_lexer": "ipython3",
   "version": "3.6.7"
  }
 },
 "nbformat": 4,
 "nbformat_minor": 2
}
