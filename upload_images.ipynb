{
 "cells": [
  {
   "cell_type": "code",
   "execution_count": 35,
   "metadata": {},
   "outputs": [
    {
     "name": "stdout",
     "output_type": "stream",
     "text": [
      "Good to go. Found the bucket to upload the image into.\n"
     ]
    }
   ],
   "source": [
    "import boto3\n",
    "import requests\n",
    "import os\n",
    "from collections import namedtuple\n",
    "from collections import defaultdict\n",
    "from collections import Counter\n",
    "import itertools\n",
    "import json\n",
    "import random\n",
    "import time\n",
    "import imageio\n",
    "import numpy as np\n",
    "import matplotlib\n",
    "import matplotlib.pyplot as plt\n",
    "from matplotlib.backends.backend_pdf import PdfPages\n",
    "from sklearn.metrics import confusion_matrix\n",
    "import boto3\n",
    "# import sagemaker\n",
    "from urllib.parse import urlparse\n",
    "\n",
    "# Read file\n",
    "with open('filtered-images.txt') as f:\n",
    "    urls = f.read().splitlines() \n",
    "\n",
    "    \n",
    "s3 = boto3.resource('s3')\n",
    "bucket_name_to_upload_image_to = 'filtered-coral-images'\n",
    "\n",
    "for bucket in s3.buckets.all():\n",
    "        if bucket.name == bucket_name_to_upload_image_to:\n",
    "            print('Good to go. Found the bucket to upload the image into.')\n",
    "        good_to_go = True\n",
    "        if not good_to_go:\n",
    "            print('Not seeing your s3 bucket, might want to double check permissions in IAM')\n",
    "\n",
    "for url in urls:\n",
    "    url = url.replace('\\\\', '/')\n",
    "\n",
    "    s3_image_filename = url.split('/')[-1]\n",
    "\n",
    "\n",
    "    # Given an Internet-accessible URL, download the image and upload it to S3,\n",
    "    # without needing to persist the image to disk locally\n",
    "    req_for_image = requests.get(url, stream=True)\n",
    "    file_object_from_req = req_for_image.raw\n",
    "    req_data = file_object_from_req.read()\n",
    "\n",
    "    # Do the actual upload to s3\n",
    "    s3.Bucket(bucket_name_to_upload_image_to).put_object(Key=s3_image_filename, Body=req_data)"
   ]
  },
  {
   "cell_type": "code",
   "execution_count": 36,
   "metadata": {},
   "outputs": [
    {
     "ename": "NameError",
     "evalue": "name 'size' is not defined",
     "output_type": "error",
     "traceback": [
      "\u001b[0;31m---------------------------------------------------------------------------\u001b[0m",
      "\u001b[0;31mNameError\u001b[0m                                 Traceback (most recent call last)",
      "\u001b[0;32m<ipython-input-36-fc963145a41c>\u001b[0m in \u001b[0;36m<module>\u001b[0;34m()\u001b[0m\n\u001b[0;32m----> 1\u001b[0;31m \u001b[0msize\u001b[0m\u001b[0;34m(\u001b[0m\u001b[0murls\u001b[0m\u001b[0;34m)\u001b[0m\u001b[0;34m\u001b[0m\u001b[0m\n\u001b[0m",
      "\u001b[0;31mNameError\u001b[0m: name 'size' is not defined"
     ]
    }
   ],
   "source": [
    "size(urls)"
   ]
  },
  {
   "cell_type": "code",
   "execution_count": null,
   "metadata": {},
   "outputs": [],
   "source": []
  }
 ],
 "metadata": {
  "kernelspec": {
   "display_name": "Python 3",
   "language": "python",
   "name": "python3"
  },
  "language_info": {
   "codemirror_mode": {
    "name": "ipython",
    "version": 3
   },
   "file_extension": ".py",
   "mimetype": "text/x-python",
   "name": "python",
   "nbconvert_exporter": "python",
   "pygments_lexer": "ipython3",
   "version": "3.6.7"
  }
 },
 "nbformat": 4,
 "nbformat_minor": 2
}
